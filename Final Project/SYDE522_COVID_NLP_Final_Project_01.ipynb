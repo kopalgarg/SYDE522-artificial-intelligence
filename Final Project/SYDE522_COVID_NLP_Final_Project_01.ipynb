{
  "nbformat": 4,
  "nbformat_minor": 0,
  "metadata": {
    "colab": {
      "name": "SYDE522-COVID-NLP-Final-Project-01",
      "provenance": [],
      "collapsed_sections": []
    },
    "kernelspec": {
      "name": "python3",
      "display_name": "Python 3"
    },
    "language_info": {
      "name": "python"
    }
  },
  "cells": [
    {
      "cell_type": "markdown",
      "metadata": {
        "id": "6A795b8CQw8P"
      },
      "source": [
        "SYDE 522 Final Project - Kopal Garg, 20657685"
      ]
    },
    {
      "cell_type": "markdown",
      "metadata": {
        "id": "LG9RiIXORTWb"
      },
      "source": [
        "Project Title: COVID-19 Tweets Classification\n",
        "\n"
      ]
    },
    {
      "cell_type": "markdown",
      "metadata": {
        "id": "dmUy0Fq-RQ5t"
      },
      "source": [
        "Dataset: https://www.kaggle.com/datatattle/covid-19-nlp-text-classification?select=Corona_NLP_train.csv"
      ]
    },
    {
      "cell_type": "code",
      "metadata": {
        "colab": {
          "base_uri": "https://localhost:8080/"
        },
        "id": "nACBLYrVTQ4Z",
        "outputId": "e2787ee2-7ffa-4bb9-eb20-ac8108f18fd5"
      },
      "source": [
        "# -- Import libraries --\n",
        "import numpy as np\n",
        "import pandas as pd\n",
        "import matplotlib.pyplot as plt\n",
        "import nltk\n",
        "nltk.download('stopwords')\n",
        "from nltk.corpus import stopwords\n",
        "nltk.download('punkt')\n",
        "from nltk.tokenize import word_tokenize \n",
        "import re, string, unicodedata\n",
        "from sklearn import model_selection\n",
        "from sklearn.preprocessing import LabelEncoder\n",
        "import tensorflow as tf\n",
        "from sklearn.feature_extraction.text import TfidfVectorizer\n",
        "from sklearn.svm import SVC\n",
        "\n",
        "from sklearn.naive_bayes import MultinomialNB\n",
        "from sklearn.ensemble import RandomForestClassifier\n",
        "from sklearn.svm import LinearSVC\n",
        "from sklearn.model_selection import cross_val_score\n",
        "from sklearn.metrics import confusion_matrix\n",
        "from sklearn import metrics\n",
        "from sklearn.linear_model import LogisticRegression\n"
      ],
      "execution_count": null,
      "outputs": [
        {
          "output_type": "stream",
          "text": [
            "[nltk_data] Downloading package stopwords to /root/nltk_data...\n",
            "[nltk_data]   Unzipping corpora/stopwords.zip.\n",
            "[nltk_data] Downloading package punkt to /root/nltk_data...\n",
            "[nltk_data]   Unzipping tokenizers/punkt.zip.\n"
          ],
          "name": "stdout"
        }
      ]
    },
    {
      "cell_type": "markdown",
      "metadata": {
        "id": "lUf4H7qyVd4H"
      },
      "source": [
        "\n",
        "Pre-processing \n",
        "\n"
      ]
    },
    {
      "cell_type": "code",
      "metadata": {
        "colab": {
          "base_uri": "https://localhost:8080/",
          "height": 272
        },
        "id": "PjMMzUITTH-2",
        "outputId": "56a9afcb-902f-400d-f500-a82d11dae5f2"
      },
      "source": [
        "# -- Load data --\n",
        "train = pd.read_csv(\"/content/drive/MyDrive/SYDE522Project/data/Corona_NLP_train.csv\", encoding='L1')\n",
        "test = pd.read_csv(\"/content/drive/MyDrive/SYDE522Project/data/Corona_NLP_test.csv\", encoding='L1')\n",
        "\n",
        "train.head()"
      ],
      "execution_count": null,
      "outputs": [
        {
          "output_type": "execute_result",
          "data": {
            "text/html": [
              "<div>\n",
              "<style scoped>\n",
              "    .dataframe tbody tr th:only-of-type {\n",
              "        vertical-align: middle;\n",
              "    }\n",
              "\n",
              "    .dataframe tbody tr th {\n",
              "        vertical-align: top;\n",
              "    }\n",
              "\n",
              "    .dataframe thead th {\n",
              "        text-align: right;\n",
              "    }\n",
              "</style>\n",
              "<table border=\"1\" class=\"dataframe\">\n",
              "  <thead>\n",
              "    <tr style=\"text-align: right;\">\n",
              "      <th></th>\n",
              "      <th>UserName</th>\n",
              "      <th>ScreenName</th>\n",
              "      <th>Location</th>\n",
              "      <th>TweetAt</th>\n",
              "      <th>OriginalTweet</th>\n",
              "      <th>Sentiment</th>\n",
              "    </tr>\n",
              "  </thead>\n",
              "  <tbody>\n",
              "    <tr>\n",
              "      <th>0</th>\n",
              "      <td>3799</td>\n",
              "      <td>48751</td>\n",
              "      <td>London</td>\n",
              "      <td>16-03-2020</td>\n",
              "      <td>@MeNyrbie @Phil_Gahan @Chrisitv https://t.co/i...</td>\n",
              "      <td>Neutral</td>\n",
              "    </tr>\n",
              "    <tr>\n",
              "      <th>1</th>\n",
              "      <td>3800</td>\n",
              "      <td>48752</td>\n",
              "      <td>UK</td>\n",
              "      <td>16-03-2020</td>\n",
              "      <td>advice Talk to your neighbours family to excha...</td>\n",
              "      <td>Positive</td>\n",
              "    </tr>\n",
              "    <tr>\n",
              "      <th>2</th>\n",
              "      <td>3801</td>\n",
              "      <td>48753</td>\n",
              "      <td>Vagabonds</td>\n",
              "      <td>16-03-2020</td>\n",
              "      <td>Coronavirus Australia: Woolworths to give elde...</td>\n",
              "      <td>Positive</td>\n",
              "    </tr>\n",
              "    <tr>\n",
              "      <th>3</th>\n",
              "      <td>3802</td>\n",
              "      <td>48754</td>\n",
              "      <td>NaN</td>\n",
              "      <td>16-03-2020</td>\n",
              "      <td>My food stock is not the only one which is emp...</td>\n",
              "      <td>Positive</td>\n",
              "    </tr>\n",
              "    <tr>\n",
              "      <th>4</th>\n",
              "      <td>3803</td>\n",
              "      <td>48755</td>\n",
              "      <td>NaN</td>\n",
              "      <td>16-03-2020</td>\n",
              "      <td>Me, ready to go at supermarket during the #COV...</td>\n",
              "      <td>Extremely Negative</td>\n",
              "    </tr>\n",
              "  </tbody>\n",
              "</table>\n",
              "</div>"
            ],
            "text/plain": [
              "   UserName  ...           Sentiment\n",
              "0      3799  ...             Neutral\n",
              "1      3800  ...            Positive\n",
              "2      3801  ...            Positive\n",
              "3      3802  ...            Positive\n",
              "4      3803  ...  Extremely Negative\n",
              "\n",
              "[5 rows x 6 columns]"
            ]
          },
          "metadata": {
            "tags": []
          },
          "execution_count": 3
        }
      ]
    },
    {
      "cell_type": "code",
      "metadata": {
        "colab": {
          "base_uri": "https://localhost:8080/",
          "height": 237
        },
        "id": "Fgjw27UITW8T",
        "outputId": "af3f016f-3e3b-4085-eeae-b53798b7dd35"
      },
      "source": [
        "# -- Data distribution -- \n",
        "fig = plt.figure(figsize=(16, 4))\n",
        "\n",
        "plt.bar(x=train.Sentiment.value_counts().index,\n",
        "        height=train.Sentiment.value_counts().values,\n",
        "        width=0.2, \n",
        "        align = 'center')\n",
        "\n",
        "plt.title('Sentiment distribution')\n",
        "\n",
        "plt.show()"
      ],
      "execution_count": null,
      "outputs": [
        {
          "output_type": "display_data",
          "data": {
            "image/png": "[encoded data removed]",
            "text/plain": [
              "<Figure size 1152x288 with 1 Axes>"
            ]
          },
          "metadata": {
            "tags": [],
            "needs_background": "light"
          }
        }
      ]
    },
    {
      "cell_type": "code",
      "metadata": {
        "colab": {
          "base_uri": "https://localhost:8080/"
        },
        "id": "m3NN-jj4XHeq",
        "outputId": "45433e1a-5e5a-4867-a412-01c5e9ec0879"
      },
      "source": [
        "## -- Remove any rows with NAs in the OriginalTweet and Sentiment columns  --\n",
        "train.OriginalTweet.dropna()\n",
        "train.Sentiment.dropna()\n",
        "test.OriginalTweet.dropna()\n",
        "test.Sentiment.dropna()"
      ],
      "execution_count": null,
      "outputs": [
        {
          "output_type": "execute_result",
          "data": {
            "text/plain": [
              "0       Extremely Negative\n",
              "1                 Positive\n",
              "2       Extremely Positive\n",
              "3                 Negative\n",
              "4                  Neutral\n",
              "               ...        \n",
              "3793              Positive\n",
              "3794              Negative\n",
              "3795               Neutral\n",
              "3796    Extremely Negative\n",
              "3797    Extremely Positive\n",
              "Name: Sentiment, Length: 3798, dtype: object"
            ]
          },
          "metadata": {
            "tags": []
          },
          "execution_count": 5
        }
      ]
    },
    {
      "cell_type": "code",
      "metadata": {
        "colab": {
          "base_uri": "https://localhost:8080/"
        },
        "id": "vHAVwSWkXtqI",
        "outputId": "cf158b71-9512-4257-be80-ac2a9e6d0cb6"
      },
      "source": [
        "## -- Remove stop-words ('a', 'an', 'the') - Example --\n",
        "stop_words_english = stopwords.words('english')  \n",
        "\n",
        "word_tokens = word_tokenize(train['OriginalTweet'][2]) \n",
        "  \n",
        "filtered_sentence = [w for w in word_tokens if not w in stop_words_english] \n",
        "  \n",
        "filtered_sentence = [] \n",
        "  \n",
        "for w in word_tokens: \n",
        "    if w not in stop_words_english: \n",
        "        filtered_sentence.append(w.lower()) \n",
        "  \n",
        "print(word_tokens) \n",
        "print(filtered_sentence)\n",
        "\n",
        "## -- Run over all rows --\n",
        "func = lambda text : \" \".join([word for word in str(text).split() if word.lower() not in stop_words_english])\n",
        "train['OriginalTweet'] = train['OriginalTweet'].apply(func)\n",
        "test['OriginalTweet'] = test['OriginalTweet'].apply(func)\n"
      ],
      "execution_count": null,
      "outputs": [
        {
          "output_type": "stream",
          "text": [
            "['Coronavirus', 'Australia', ':', 'Woolworths', 'to', 'give', 'elderly', ',', 'disabled', 'dedicated', 'shopping', 'hours', 'amid', 'COVID-19', 'outbreak', 'https', ':', '//t.co/bInCA9Vp8P']\n",
            "['coronavirus', 'australia', ':', 'woolworths', 'give', 'elderly', ',', 'disabled', 'dedicated', 'shopping', 'hours', 'amid', 'covid-19', 'outbreak', 'https', ':', '//t.co/binca9vp8p']\n"
          ],
          "name": "stdout"
        }
      ]
    },
    {
      "cell_type": "code",
      "metadata": {
        "colab": {
          "base_uri": "https://localhost:8080/"
        },
        "id": "M8D_iOPbaebx",
        "outputId": "af432cd4-379d-4ede-b54a-9a4356fdaf11"
      },
      "source": [
        "## -- Remove URLs from tweets and conver to lowercase --\n",
        "for row in range(0,len(train)):\n",
        "  train['OriginalTweet'][row]= re.sub(r\"http\\S+\", \"\", train['OriginalTweet'][row]).lower()\n",
        "\n",
        "for row in range(0,len(test)):\n",
        "  test['OriginalTweet'][row]= re.sub(r\"http\\S+\", \"\", test['OriginalTweet'][row]).lower()"
      ],
      "execution_count": null,
      "outputs": [
        {
          "output_type": "stream",
          "text": [
            "/usr/local/lib/python3.7/dist-packages/ipykernel_launcher.py:3: SettingWithCopyWarning: \n",
            "A value is trying to be set on a copy of a slice from a DataFrame\n",
            "\n",
            "See the caveats in the documentation: https://pandas.pydata.org/pandas-docs/stable/user_guide/indexing.html#returning-a-view-versus-a-copy\n",
            "  This is separate from the ipykernel package so we can avoid doing imports until\n",
            "/usr/local/lib/python3.7/dist-packages/ipykernel_launcher.py:6: SettingWithCopyWarning: \n",
            "A value is trying to be set on a copy of a slice from a DataFrame\n",
            "\n",
            "See the caveats in the documentation: https://pandas.pydata.org/pandas-docs/stable/user_guide/indexing.html#returning-a-view-versus-a-copy\n",
            "  \n"
          ],
          "name": "stderr"
        }
      ]
    },
    {
      "cell_type": "code",
      "metadata": {
        "id": "YtbOlGc9lYpM"
      },
      "source": [
        "## -- Convert labels to categorical --\n",
        "def classes_def(x):\n",
        "    if x ==  \"Extremely Positive\":\n",
        "        return \"2\"\n",
        "    elif x == \"Extremely Negative\":\n",
        "        return \"0\"\n",
        "    elif x == \"Negative\":\n",
        "        return \"0\"\n",
        "    elif x ==  \"Positive\":\n",
        "        return \"2\"\n",
        "    else:\n",
        "        return \"1\"\n",
        "\n",
        "train['Sentiment']=train['Sentiment'].apply(lambda x:classes_def(x))\n",
        "test['Sentiment']=test['Sentiment'].apply(lambda x:classes_def(x))\n",
        "\n",
        "#train['Sentiment'] = train['Sentiment'].factorize()[0]\n",
        "#test['Sentiment'] = test['Sentiment'].factorize()[0]"
      ],
      "execution_count": null,
      "outputs": []
    },
    {
      "cell_type": "code",
      "metadata": {
        "colab": {
          "base_uri": "https://localhost:8080/",
          "height": 237
        },
        "id": "KqHyjTBMvjm7",
        "outputId": "19f79463-16d2-41c7-b365-4a158ad16d2a"
      },
      "source": [
        "fig = plt.figure(figsize=(16, 4))\n",
        "\n",
        "plt.bar(x=train.Sentiment.value_counts().index,\n",
        "        height=train.Sentiment.value_counts().values,\n",
        "        width=0.2, \n",
        "        align = 'center')\n",
        "\n",
        "plt.title('Sentiment distribution')\n",
        "\n",
        "plt.show()"
      ],
      "execution_count": null,
      "outputs": [
        {
          "output_type": "display_data",
          "data": {
            "image/png": "[encoded data removed]",
            "text/plain": [
              "<Figure size 1152x288 with 1 Axes>"
            ]
          },
          "metadata": {
            "tags": [],
            "needs_background": "light"
          }
        }
      ]
    },
    {
      "cell_type": "markdown",
      "metadata": {
        "id": "dbPJn5fLmU3g"
      },
      "source": [
        "Data transformations"
      ]
    },
    {
      "cell_type": "code",
      "metadata": {
        "colab": {
          "base_uri": "https://localhost:8080/"
        },
        "id": "Vk8nEbGXf-qT",
        "outputId": "79bdc765-acf6-41f9-9e81-6937a3e3cdd6"
      },
      "source": [
        "## -- Convert texts into more managable representations (TF-IDF weighted vectors) --\n",
        "tfidf = TfidfVectorizer(sublinear_tf = True, \n",
        "                        min_df=5, \n",
        "                        norm='l2', \n",
        "                        encoding='latin-1', \n",
        "                        ngram_range=(1, 2), \n",
        "                        stop_words='english')\n",
        "\n",
        "features = tfidf.fit_transform(train['OriginalTweet'])\n",
        "features.shape"
      ],
      "execution_count": null,
      "outputs": [
        {
          "output_type": "execute_result",
          "data": {
            "text/plain": [
              "(41157, 23350)"
            ]
          },
          "metadata": {
            "tags": []
          },
          "execution_count": 10
        }
      ]
    },
    {
      "cell_type": "markdown",
      "metadata": {
        "id": "PgmJ9wFHmRB7"
      },
      "source": [
        "Split the training data into training and validation sets"
      ]
    },
    {
      "cell_type": "code",
      "metadata": {
        "id": "KKHp4ejfdmZm"
      },
      "source": [
        "## -- Split training data into training and validation sets --\n",
        "X_train, X_valid, Y_train, Y_valid = model_selection.train_test_split(features, \n",
        "                                                                      train['Sentiment'],\n",
        "                                                                      test_size= 0.1)\n",
        "\n",
        "# = test.drop(labels = [\"Sentiment\"],axis = 1)\n",
        "#Y_test = test['Sentiment']"
      ],
      "execution_count": null,
      "outputs": []
    },
    {
      "cell_type": "markdown",
      "metadata": {
        "id": "wm9rABvjmWt2"
      },
      "source": [
        "Experiment with different supervised multi-class classifiers and evaluate their accuracy\n",
        "\n",
        "1. Random Forest \n",
        "2. Linear SVM\n",
        "3. Multinomial Naive Bayes\n"
      ]
    },
    {
      "cell_type": "code",
      "metadata": {
        "colab": {
          "base_uri": "https://localhost:8080/"
        },
        "id": "eiKM7QpLlOyz",
        "outputId": "f5749e97-9e0c-4924-cf96-cccc110d3091"
      },
      "source": [
        "models = [\n",
        "    RandomForestClassifier(n_estimators=100, max_depth=5, random_state=0),\n",
        "    LinearSVC(),\n",
        "    MultinomialNB(),\n",
        "    LogisticRegression(random_state=0, max_iter=200),\n",
        "    #SVC(C=100, gamma=0.01, kernel=\"rbf\")\n",
        "    ]\n",
        "CV = 5\n",
        "CV_df = pd.DataFrame(index=range(CV * len(models)))\n",
        "entries = []\n",
        "\n",
        "for model in models:\n",
        "  model_name = model.__class__.__name__\n",
        "  accuracies = cross_val_score(model, X_train, Y_train, scoring='accuracy', cv=CV)\n",
        "  for fold_idx, accuracy in enumerate(accuracies):\n",
        "    entries.append((model_name, fold_idx, accuracy))\n",
        "CV_df = pd.DataFrame(entries, columns=['model_name', 'fold_idx', 'accuracy'])"
      ],
      "execution_count": null,
      "outputs": [
        {
          "output_type": "stream",
          "text": [
            "/usr/local/lib/python3.7/dist-packages/sklearn/linear_model/_logistic.py:940: ConvergenceWarning: lbfgs failed to converge (status=1):\n",
            "STOP: TOTAL NO. of ITERATIONS REACHED LIMIT.\n",
            "\n",
            "Increase the number of iterations (max_iter) or scale the data as shown in:\n",
            "    https://scikit-learn.org/stable/modules/preprocessing.html\n",
            "Please also refer to the documentation for alternative solver options:\n",
            "    https://scikit-learn.org/stable/modules/linear_model.html#logistic-regression\n",
            "  extra_warning_msg=_LOGISTIC_SOLVER_CONVERGENCE_MSG)\n",
            "/usr/local/lib/python3.7/dist-packages/sklearn/linear_model/_logistic.py:940: ConvergenceWarning: lbfgs failed to converge (status=1):\n",
            "STOP: TOTAL NO. of ITERATIONS REACHED LIMIT.\n",
            "\n",
            "Increase the number of iterations (max_iter) or scale the data as shown in:\n",
            "    https://scikit-learn.org/stable/modules/preprocessing.html\n",
            "Please also refer to the documentation for alternative solver options:\n",
            "    https://scikit-learn.org/stable/modules/linear_model.html#logistic-regression\n",
            "  extra_warning_msg=_LOGISTIC_SOLVER_CONVERGENCE_MSG)\n"
          ],
          "name": "stderr"
        }
      ]
    },
    {
      "cell_type": "markdown",
      "metadata": {
        "id": "XKz6x2rtoBEK"
      },
      "source": [
        "Plot accuracies "
      ]
    },
    {
      "cell_type": "code",
      "metadata": {
        "colab": {
          "base_uri": "https://localhost:8080/",
          "height": 280
        },
        "id": "T2JztrTMnzFg",
        "outputId": "c9e0afa0-26a2-4557-961d-88ad5873f950"
      },
      "source": [
        "import seaborn as sns\n",
        "sns.boxplot(x='model_name', y='accuracy', data=CV_df)\n",
        "sns.stripplot(x='model_name', y='accuracy', data=CV_df, \n",
        "              size=8, jitter=True, edgecolor=\"gray\", linewidth=2)\n",
        "plt.show()"
      ],
      "execution_count": null,
      "outputs": [
        {
          "output_type": "display_data",
          "data": {
            "image/png": "[encoded data removed]",
            "text/plain": [
              "<Figure size 432x288 with 1 Axes>"
            ]
          },
          "metadata": {
            "tags": [],
            "needs_background": "light"
          }
        }
      ]
    },
    {
      "cell_type": "code",
      "metadata": {
        "colab": {
          "base_uri": "https://localhost:8080/"
        },
        "id": "7d14cS6QobSe",
        "outputId": "78b9e05e-3619-4467-e342-56f673988a06"
      },
      "source": [
        "CV_df.groupby('model_name').accuracy.mean()"
      ],
      "execution_count": null,
      "outputs": [
        {
          "output_type": "execute_result",
          "data": {
            "text/plain": [
              "model_name\n",
              "LinearSVC                 0.779218\n",
              "LogisticRegression        0.771523\n",
              "MultinomialNB             0.657812\n",
              "RandomForestClassifier    0.467725\n",
              "Name: accuracy, dtype: float64"
            ]
          },
          "metadata": {
            "tags": []
          },
          "execution_count": 14
        }
      ]
    },
    {
      "cell_type": "markdown",
      "metadata": {
        "id": "MnutO_kboxtu"
      },
      "source": [
        "Based on the accuracies, I see that Linear SVC performs the best. I will further evaluate the performace of this model."
      ]
    },
    {
      "cell_type": "code",
      "metadata": {
        "colab": {
          "base_uri": "https://localhost:8080/",
          "height": 223
        },
        "id": "U43uHdkRo2G4",
        "outputId": "354f6daa-2bc7-4470-a968-9f824cbcae5a"
      },
      "source": [
        "model = LinearSVC()\n",
        "\n",
        "model.fit(X_train, Y_train)\n",
        "Y_pred = model.predict(X_valid)\n",
        "\n",
        "c_matrix = confusion_matrix(Y_valid, Y_pred)\n",
        "fig, ax = plt.subplots(figsize=(10,10))\n",
        "sns.heatmap(c_matrix, annot=True, fmt='d')\n",
        "plt.ylabel('Actual')\n",
        "plt.xlabel('Predicted')\n",
        "plt.show()"
      ],
      "execution_count": null,
      "outputs": [
        {
          "output_type": "error",
          "ename": "NameError",
          "evalue": "ignored",
          "traceback": [
            "\u001b[0;31m---------------------------------------------------------------------------\u001b[0m",
            "\u001b[0;31mNameError\u001b[0m                                 Traceback (most recent call last)",
            "\u001b[0;32m<ipython-input-1-bee8d1a4ffc5>\u001b[0m in \u001b[0;36m<module>\u001b[0;34m()\u001b[0m\n\u001b[0;32m----> 1\u001b[0;31m \u001b[0mmodel\u001b[0m \u001b[0;34m=\u001b[0m \u001b[0mLinearSVC\u001b[0m\u001b[0;34m(\u001b[0m\u001b[0;34m)\u001b[0m\u001b[0;34m\u001b[0m\u001b[0;34m\u001b[0m\u001b[0m\n\u001b[0m\u001b[1;32m      2\u001b[0m \u001b[0;34m\u001b[0m\u001b[0m\n\u001b[1;32m      3\u001b[0m \u001b[0mmodel\u001b[0m\u001b[0;34m.\u001b[0m\u001b[0mfit\u001b[0m\u001b[0;34m(\u001b[0m\u001b[0mX_train\u001b[0m\u001b[0;34m,\u001b[0m \u001b[0mY_train\u001b[0m\u001b[0;34m)\u001b[0m\u001b[0;34m\u001b[0m\u001b[0;34m\u001b[0m\u001b[0m\n\u001b[1;32m      4\u001b[0m \u001b[0mY_pred\u001b[0m \u001b[0;34m=\u001b[0m \u001b[0mmodel\u001b[0m\u001b[0;34m.\u001b[0m\u001b[0mpredict\u001b[0m\u001b[0;34m(\u001b[0m\u001b[0mX_valid\u001b[0m\u001b[0;34m)\u001b[0m\u001b[0;34m\u001b[0m\u001b[0;34m\u001b[0m\u001b[0m\n\u001b[1;32m      5\u001b[0m \u001b[0;34m\u001b[0m\u001b[0m\n",
            "\u001b[0;31mNameError\u001b[0m: name 'LinearSVC' is not defined"
          ]
        }
      ]
    },
    {
      "cell_type": "code",
      "metadata": {
        "colab": {
          "base_uri": "https://localhost:8080/"
        },
        "id": "7q6kcHCaydNz",
        "outputId": "3d2d6796-310d-4f06-c7d0-ba4cb9b1bff4"
      },
      "source": [
        "print(metrics.classification_report(Y_valid, Y_pred, \n",
        "                                    target_names= Y_train.unique()))"
      ],
      "execution_count": null,
      "outputs": [
        {
          "output_type": "stream",
          "text": [
            "              precision    recall  f1-score   support\n",
            "\n",
            "           0       0.79      0.82      0.80      1546\n",
            "           2       0.68      0.63      0.66       772\n",
            "           1       0.82      0.82      0.82      1798\n",
            "\n",
            "    accuracy                           0.78      4116\n",
            "   macro avg       0.76      0.76      0.76      4116\n",
            "weighted avg       0.78      0.78      0.78      4116\n",
            "\n"
          ],
          "name": "stdout"
        }
      ]
    }
  ]
}